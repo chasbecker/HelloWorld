{
  "cells": [
    {
      "metadata": {},
      "cell_type": "markdown",
      "source": "## List comprehension examples"
    },
    {
      "metadata": {
        "trusted": true
      },
      "cell_type": "code",
      "source": "list_a = [1, 2, 3]\nlist_b = [2, 7]\n\nsame_num = [a for a in list_a for b in list_b if a==b]\nprint(same_num)\n\ndifferent_num = [(a, b) for a in list_a for b in list_b if a != b]\nprint(different_num)",
      "execution_count": 1,
      "outputs": [
        {
          "output_type": "stream",
          "text": "[2]\n[(1, 2), (1, 7), (2, 7), (3, 2), (3, 7)]\n",
          "name": "stdout"
        }
      ]
    },
    {
      "metadata": {},
      "cell_type": "markdown",
      "source": "## Lambda function example\nFrom what I've seen, this is most often used as a parameter to a function...."
    },
    {
      "metadata": {
        "trusted": true
      },
      "cell_type": "code",
      "source": "add = lambda x, y: x + y\nadd(3,4)",
      "execution_count": 19,
      "outputs": [
        {
          "execution_count": 19,
          "output_type": "execute_result",
          "data": {
            "text/plain": "7"
          },
          "metadata": {}
        }
      ]
    },
    {
      "metadata": {
        "trusted": true
      },
      "cell_type": "code",
      "source": "type(add)",
      "execution_count": 20,
      "outputs": [
        {
          "execution_count": 20,
          "output_type": "execute_result",
          "data": {
            "text/plain": "function"
          },
          "metadata": {}
        }
      ]
    },
    {
      "metadata": {
        "trusted": true
      },
      "cell_type": "code",
      "source": "",
      "execution_count": 18,
      "outputs": []
    }
  ],
  "metadata": {
    "kernelspec": {
      "name": "python36",
      "display_name": "Python 3.6",
      "language": "python"
    },
    "language_info": {
      "mimetype": "text/x-python",
      "nbconvert_exporter": "python",
      "name": "python",
      "pygments_lexer": "ipython3",
      "version": "3.6.6",
      "file_extension": ".py",
      "codemirror_mode": {
        "version": 3,
        "name": "ipython"
      }
    }
  },
  "nbformat": 4,
  "nbformat_minor": 2
}