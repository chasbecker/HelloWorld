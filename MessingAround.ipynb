{
  "metadata": {
    "kernelspec": {
      "display_name": "Python 3.6",
      "name": "python36",
      "language": "python"
    },
    "language_info": {
      "mimetype": "text/x-python",
      "nbconvert_exporter": "python",
      "name": "python",
      "pygments_lexer": "ipython3",
      "version": "3.6.6",
      "file_extension": ".py",
      "codemirror_mode": {
        "version": 3,
        "name": "ipython"
      }
    }
  },
  "nbformat_minor": 2,
  "nbformat": 4,
  "cells": [
    {
      "cell_type": "markdown",
      "source": "## List comprehension examples",
      "metadata": {}
    },
    {
      "cell_type": "code",
      "source": "list_a = [1, 2, 3]\nlist_b = [2, 7]\n\nsame_num = [a for a in list_a for b in list_b if a==b]\nprint(same_num)\n\ndifferent_num = [(a, b) for a in list_a for b in list_b if a != b]\nprint(different_num)",
      "metadata": {
        "collapsed": true,
        "trusted": true
      },
      "execution_count": null,
      "outputs": []
    },
    {
      "cell_type": "markdown",
      "source": "## Lambda function example\nFrom what I've seen, this is most often used as a parameter to a function....",
      "metadata": {}
    },
    {
      "cell_type": "code",
      "source": "add = lambda x, y: x + y\nadd(3,4)",
      "metadata": {
        "trusted": true
      },
      "execution_count": 19,
      "outputs": [
        {
          "execution_count": 19,
          "output_type": "execute_result",
          "data": {
            "text/plain": "7"
          },
          "metadata": {}
        }
      ]
    },
    {
      "cell_type": "code",
      "source": "type(add)",
      "metadata": {
        "trusted": true
      },
      "execution_count": 20,
      "outputs": [
        {
          "execution_count": 20,
          "output_type": "execute_result",
          "data": {
            "text/plain": "function"
          },
          "metadata": {}
        }
      ]
    },
    {
      "cell_type": "code",
      "source": "",
      "metadata": {
        "trusted": true
      },
      "execution_count": 18,
      "outputs": []
    }
  ]
}