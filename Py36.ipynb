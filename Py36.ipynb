{
  "cells": [
    {
      "metadata": {},
      "cell_type": "markdown",
      "source": "![](https://imgs.xkcd.com/comics/python.png)"
    },
    {
      "metadata": {},
      "cell_type": "markdown",
      "source": "# This is an Jupyter notebook hosted on Microsoft Azure.\nJupyter is an acronym for 'julia python r'. It supports numerous program languages and integrates with Github.\n\n*Charles Becker, an unemployed student*"
    },
    {
      "metadata": {},
      "cell_type": "markdown",
      "source": "# What?!\n*https://github.com/adam-p/markdown-here/wiki/Markdown-Cheatsheet*\n\nThis is my first live Jupyter (Python) notebook created from scratch.\n\n*italics text* some _more italic text_\n\n**really bold text here**\n\n~~None of this around here~~\n\n**_super special_**\n\nnow?\n\n[Sonoma State University](http://sonoma.edu)\n\n"
    },
    {
      "metadata": {
        "trusted": true
      },
      "cell_type": "code",
      "source": "%pylab inline\nimport numpy as np\nimport statsmodels.api as sm\nimport pandas as pd\nimport matplotlib.pyplot as plt\nimport seaborn as sns",
      "execution_count": null,
      "outputs": []
    },
    {
      "metadata": {},
      "cell_type": "markdown",
      "source": "## A toy program"
    },
    {
      "metadata": {
        "trusted": true
      },
      "cell_type": "code",
      "source": "YourName = input(\"Name? \")\nprint(\"Welcome to Hello World, \" + YourName)\nprint()\n\ncitydata = [['NYC', 8000000], ['LA', 6000000], ['Chi', 4380000],\n    ['Hou', 4800000], ['Bzm', 55000]]\nFirstDataFrame = pd.DataFrame(citydata, columns=['City', 'Population'])\nprint(FirstDataFrame)\nprint()\n\n# using seaborn approach\nprint(\"Seaborn defaults===============================>\")\nsns.relplot(x=\"City\", y=\"Population\", data=FirstDataFrame, kind=\"line\", color=\"gray\")\nplt.show()\nplot1 = sns.barplot(x=\"City\", y=\"Population\", data=FirstDataFrame)\nplt.show()\nprint()\n\n# pandas (FirstDataFrame) having tight integration with matplotlib.pyplot\nprint(\"Matplotlib defaults============================>\")\nplot2 = FirstDataFrame.plot(kind = 'bar', x='City', y='Population', color=\"purple\")\nplt.show()",
      "execution_count": null,
      "outputs": []
    },
    {
      "metadata": {},
      "cell_type": "markdown",
      "source": "### Work with list processing a bit"
    },
    {
      "metadata": {
        "trusted": true
      },
      "cell_type": "code",
      "source": "myListOrig = [3,2,4,3,5,6,8,7]\nprint(\"Original \" + str(myListOrig))\nmyListSquared = [i**2 for i in myListOrig]\nprint(\"Squared \" + str(myListSquared))",
      "execution_count": null,
      "outputs": []
    },
    {
      "metadata": {
        "trusted": true
      },
      "cell_type": "code",
      "source": "myListOrig = [3,2,4,3,5,6,8,7]\nprint(\"Original \" + str(myListOrig))\nmyListSquared = []\nfor index in range(len(myListOrig)):\n    myListSquared.append(myListOrig[index]**2)\nprint(\"Squared \" + str(myListSquared))",
      "execution_count": null,
      "outputs": []
    },
    {
      "metadata": {},
      "cell_type": "markdown",
      "source": "### Now work with some real data doing DS type stuffs"
    },
    {
      "metadata": {
        "trusted": true
      },
      "cell_type": "code",
      "source": "abDat = pd.read_csv(\"abalone_data_with_column_names.csv\")",
      "execution_count": null,
      "outputs": []
    },
    {
      "metadata": {
        "trusted": true
      },
      "cell_type": "code",
      "source": "abDat.head(6)",
      "execution_count": null,
      "outputs": []
    },
    {
      "metadata": {
        "trusted": true
      },
      "cell_type": "code",
      "source": "abDat.tail(6)",
      "execution_count": null,
      "outputs": []
    },
    {
      "metadata": {
        "trusted": true
      },
      "cell_type": "code",
      "source": "max(abDat[\"Length\"])",
      "execution_count": null,
      "outputs": []
    },
    {
      "metadata": {
        "trusted": true
      },
      "cell_type": "code",
      "source": "print(mean(abDat[\"Length\"]))\nprint(\"{0:.3f}\".format(mean(abDat[\"Length\"])))",
      "execution_count": null,
      "outputs": []
    },
    {
      "metadata": {},
      "cell_type": "markdown",
      "source": "# Next I will run a simple linear regression\nDependent variable will be \"WholeWeight\"\nIndependent variable will begin with \"Rings\" and hopefully progress to add my predictors\nwith luck ending in an MLR-type situation.\n\nNote that 'statsmodel.api as sm' is the correct import statement to access the '.OLS' method.\nUnlike R, you have to add 'sm.add_constant()' to get the intercept value."
    },
    {
      "metadata": {
        "trusted": true
      },
      "cell_type": "code",
      "source": "en1 = abDat.WholeWeight\nex1 = sm.add_constant(abDat.Rings)\nabSize = sm.OLS(en1, ex1)\nabRes = abSize.fit()\nprint(abRes.summary())",
      "execution_count": null,
      "outputs": []
    },
    {
      "metadata": {},
      "cell_type": "markdown",
      "source": "### Plot it"
    },
    {
      "metadata": {
        "trusted": true
      },
      "cell_type": "code",
      "source": "sns.regplot(x='Rings', y='WholeWeight', data=abDat)",
      "execution_count": null,
      "outputs": []
    },
    {
      "metadata": {},
      "cell_type": "markdown",
      "source": "# Now for a multiple linear regression\n'WholeWeight' still the dependent variable\n'Rings' + 'Sex' are the predictors\n'Sex' is a categorial, so...\n## I will create dummy variable for sex (female, indeterminate, male)\n## remember: dataframe = table\n1. read the data file into __abDat__\n2. use the pandas 'get_dummies' function to create a dummy variable table __sex_dum__\n3. concatenate the original and dummy tables to form one comprehensive table\n4. when running the regression, use the statsmodels 'add_constant' function to report the intercept\n5. use the pandas 'summary' method of the __abResult__ object to output report\n6. use the pandas 'to_csv' method of the __abDat_sex_dum__ table"
    },
    {
      "metadata": {
        "trusted": true
      },
      "cell_type": "code",
      "source": "# this approach is derived from a post by Akvall @ StackOverflow\nabDat = pd.read_csv(\"abalone_data_with_column_names.csv\")\nsex_dum = pd.get_dummies(abDat['Sex'])\nabDat_sex_dum = pd.concat([abDat, sex_dum], axis=1)\nabResult = sm.OLS(abDat_sex_dum['WholeWeight'], sm.add_constant(abDat_sex_dum[['Rings', 'F', 'I']])).fit()\nprint(abResult.summary())\n\n# save abDat_sex_dum dataset to a file\nabDat_sex_dum.to_csv(\"abdat_w_sex_dum.csv\")",
      "execution_count": null,
      "outputs": []
    },
    {
      "metadata": {
        "trusted": true
      },
      "cell_type": "code",
      "source": "sns.lmplot(x='Rings', y='WholeWeight', data=abDat_sex_dum, hue='Sex')",
      "execution_count": null,
      "outputs": []
    },
    {
      "metadata": {
        "trusted": true
      },
      "cell_type": "code",
      "source": "",
      "execution_count": null,
      "outputs": []
    }
  ],
  "metadata": {
    "kernelspec": {
      "name": "python36",
      "display_name": "Python 3.6",
      "language": "python"
    },
    "language_info": {
      "mimetype": "text/x-python",
      "nbconvert_exporter": "python",
      "name": "python",
      "pygments_lexer": "ipython3",
      "version": "3.6.6",
      "file_extension": ".py",
      "codemirror_mode": {
        "version": 3,
        "name": "ipython"
      }
    }
  },
  "nbformat": 4,
  "nbformat_minor": 2
}